{
 "cells": [
  {
   "cell_type": "code",
   "execution_count": 125,
   "metadata": {},
   "outputs": [],
   "source": [
    "import pathlib\n",
    "import chess\n",
    "import chess.pgn\n",
    "import chess.engine\n",
    "import numpy as np\n",
    "import h5py"
   ]
  },
  {
   "cell_type": "code",
   "execution_count": 126,
   "metadata": {},
   "outputs": [],
   "source": [
    "# General space saving algorithms that are often used in chess programming sites\n",
    "\n",
    "def board_to_arr(board: chess.Board):\n",
    "    black, white = board.occupied_co\n",
    "\n",
    "    bitboards = np.array([\n",
    "        black & board.pawns,\n",
    "        black & board.knights,\n",
    "        black & board.bishops,\n",
    "        black & board.rooks,\n",
    "        black & board.queens,\n",
    "        black & board.kings,\n",
    "        white & board.pawns,\n",
    "        white & board.knights,\n",
    "        white & board.bishops,\n",
    "        white & board.rooks,\n",
    "        white & board.queens,\n",
    "        white & board.kings,\n",
    "    ], dtype=np.uint64)\n",
    "\n",
    "    return bitboards\n",
    "\n",
    "def bitboards_to_array(bb: np.ndarray) -> np.ndarray:\n",
    "    bb = np.asarray(bb, dtype=np.uint64)[:, np.newaxis]\n",
    "    s = 8 * np.arange(7, -1, -1, dtype=np.uint64)\n",
    "    b = (bb >> s).astype(np.uint8)\n",
    "    b = np.unpackbits(b, bitorder=\"little\")\n",
    "    return b.reshape(-1, 8, 8)\n"
   ]
  },
  {
   "cell_type": "markdown",
   "metadata": {},
   "source": [
    "## Create Model Architecture"
   ]
  },
  {
   "cell_type": "code",
   "execution_count": 258,
   "metadata": {},
   "outputs": [],
   "source": [
    "import torch\n",
    "import torch.nn as nn\n",
    "import torch.nn.functional as F\n",
    "import numpy as np\n",
    "\n",
    "class BasicBlock(nn.Module):\n",
    "    expansion = 1\n",
    "\n",
    "    def __init__(self, in_planes, planes, stride=1):\n",
    "        super(BasicBlock, self).__init__()\n",
    "        self.conv1 = nn.Conv2d(in_planes, planes, kernel_size=3, stride=stride, padding=1, bias=False)\n",
    "        self.bn1 = nn.BatchNorm2d(planes)\n",
    "        self.conv2 = nn.Conv2d(planes, planes, kernel_size=3, stride=1, padding=1, bias=False)\n",
    "        self.bn2 = nn.BatchNorm2d(planes)\n",
    "\n",
    "        self.shortcut = nn.Sequential()\n",
    "        if stride != 1 or in_planes != self.expansion*planes:\n",
    "            self.shortcut = nn.Sequential(\n",
    "                nn.Conv2d(in_planes, self.expansion*planes, kernel_size=1, stride=stride, bias=False),\n",
    "                nn.BatchNorm2d(self.expansion*planes)\n",
    "            )\n",
    "\n",
    "    def forward(self, x):\n",
    "        out = F.relu(self.bn1(self.conv1(x)))\n",
    "        out = self.bn2(self.conv2(out))\n",
    "        out += self.shortcut(x)\n",
    "        out = F.relu(out)\n",
    "        return out\n",
    "\n",
    "\n",
    "class Bottleneck(nn.Module):\n",
    "    expansion = 1\n",
    "\n",
    "    def __init__(self, in_planes, planes, stride=1):\n",
    "        super(Bottleneck, self).__init__()\n",
    "        self.conv1 = nn.Conv2d(in_planes, planes, kernel_size=1, bias=False)\n",
    "        self.bn1 = nn.BatchNorm2d(planes)\n",
    "        self.conv2 = nn.Conv2d(planes, planes, kernel_size=3, stride=stride, padding=1, bias=False)\n",
    "        self.bn2 = nn.BatchNorm2d(planes)\n",
    "        self.conv3 = nn.Conv2d(planes, self.expansion*planes, kernel_size=1, bias=False)\n",
    "        self.bn3 = nn.BatchNorm2d(self.expansion*planes)\n",
    "\n",
    "        self.shortcut = nn.Sequential()\n",
    "        if stride != 1 or in_planes != self.expansion*planes:\n",
    "            self.shortcut = nn.Sequential(\n",
    "                nn.Conv2d(in_planes, self.expansion*planes, kernel_size=1, stride=stride, bias=False),\n",
    "                nn.BatchNorm2d(self.expansion*planes)\n",
    "            )\n",
    "\n",
    "    def forward(self, x):\n",
    "        out = F.relu(self.bn1(self.conv1(x)))\n",
    "        out = F.relu(self.bn2(self.conv2(out)))\n",
    "        out = self.bn3(self.conv3(out))\n",
    "        out += self.shortcut(x)\n",
    "        out = F.relu(out)\n",
    "        return out\n",
    "\n",
    "\n",
    "class ResNet(nn.Module):\n",
    "    def __init__(self, block, num_blocks, num_kernels, v_planes=2):\n",
    "        super(ResNet, self).__init__()\n",
    "        self.in_planes = 12\n",
    "        self.value_planes = v_planes\n",
    "\n",
    "        self.conv1 = nn.Conv2d(self.in_planes, self.in_planes, kernel_size=3, stride=1, padding=1, bias=False)\n",
    "        self.bn1 = nn.BatchNorm2d(self.in_planes)\n",
    "        self.layer1 = self._make_layer(block, num_kernels[0], num_blocks[0], stride=1)\n",
    "        self.layer2 = self._make_layer(block, num_kernels[1], num_blocks[1], stride=1)\n",
    "        self.layer3 = self._make_layer(block, num_kernels[2], num_blocks[2], stride=1)\n",
    "        self.layer4 = self._make_layer(block, num_kernels[3], num_blocks[3], stride=1)\n",
    "\n",
    "        # value head\n",
    "        self.finalLayerValue = nn.Sequential(\n",
    "            nn.Conv2d(num_kernels[3], self.value_planes, kernel_size=1, stride=1, padding=0),  # 64, 1\n",
    "            nn.BatchNorm2d(self.value_planes),\n",
    "            nn.ReLU()\n",
    "            )\n",
    "        self.valueLinear = nn.Linear(64*self.value_planes*block.expansion, 1)\n",
    "\n",
    "    def _make_layer(self, block, planes, num_blocks, stride):\n",
    "        strides = [stride] + [1]*(num_blocks-1)\n",
    "        layers = []\n",
    "        for stride in strides:\n",
    "            layers.append(block(self.in_planes, planes, stride))\n",
    "            self.in_planes = planes * block.expansion\n",
    "        return nn.Sequential(*layers)\n",
    "\n",
    "    def forward(self, x):\n",
    "        out = F.relu(self.bn1(self.conv1(x)))\n",
    "        out = self.layer1(out)\n",
    "        out = self.layer2(out)\n",
    "        out = self.layer3(out)\n",
    "        out = self.layer4(out)\n",
    "        \n",
    "        out = self.finalLayerValue(out)\n",
    "        out = out.view(out.size(0), -1)\n",
    "        out = self.valueLinear(out)\n",
    "        return out\n"
   ]
  },
  {
   "cell_type": "code",
   "execution_count": 259,
   "metadata": {},
   "outputs": [],
   "source": [
    "def ResNetSmall():\n",
    "    return ResNet(BasicBlock, [1,1,1,2], [32,32,32,32], v_planes=2)\n",
    "\n",
    "def ResNetRegular():\n",
    "    return ResNet(BasicBlock, [3,3,3,3], [256,256,256,256], v_planes=8)"
   ]
  },
  {
   "cell_type": "code",
   "execution_count": 260,
   "metadata": {},
   "outputs": [],
   "source": [
    "model = ResNetSmall()"
   ]
  },
  {
   "cell_type": "code",
   "execution_count": 261,
   "metadata": {},
   "outputs": [
    {
     "data": {
      "text/plain": [
       "tensor([[-0.2150]], grad_fn=<AddmmBackward0>)"
      ]
     },
     "execution_count": 261,
     "metadata": {},
     "output_type": "execute_result"
    }
   ],
   "source": [
    "saveName = 'positions.h5'\n",
    "\n",
    "with h5py.File(saveName, 'r') as hf:\n",
    "    X = hf[\"X\"][:]\n",
    "    y = hf[\"y\"][:]\n",
    "    \n",
    "position = torch.from_numpy(bitboards_to_array(X[1])).unsqueeze(0).float()   \n",
    "model(position.float())\n"
   ]
  },
  {
   "cell_type": "markdown",
   "metadata": {},
   "source": [
    "### Dataloader Generator"
   ]
  },
  {
   "cell_type": "code",
   "execution_count": 262,
   "metadata": {},
   "outputs": [],
   "source": [
    "class TrainingDataset(torch.utils.data.Dataset):\n",
    "\n",
    "    def __init__(self, X, y):\n",
    "        self.X = X\n",
    "        self.y = torch.from_numpy(y)\n",
    "\n",
    "    def __getitem__(self, index):\n",
    "\n",
    "        return torch.from_numpy(bitboards_to_array(self.X[index])).float(), self.y[index]\n",
    "\n",
    "    def __len__(self):\n",
    "        return len(self.X)\n"
   ]
  },
  {
   "cell_type": "markdown",
   "metadata": {},
   "source": [
    "### Train Model"
   ]
  },
  {
   "cell_type": "code",
   "execution_count": 305,
   "metadata": {},
   "outputs": [],
   "source": [
    "with h5py.File('positions.h5', 'r') as hf:\n",
    "    X = hf[\"X\"][:]\n",
    "    y = hf[\"y\"][:]"
   ]
  },
  {
   "cell_type": "code",
   "execution_count": null,
   "metadata": {
    "scrolled": true
   },
   "outputs": [
    {
     "name": "stderr",
     "output_type": "stream",
     "text": [
      "/Users/gsychi/anaconda3/lib/python3.8/site-packages/torch/nn/modules/loss.py:530: UserWarning: Using a target size (torch.Size([15])) that is different to the input size (torch.Size([15, 1])). This will likely lead to incorrect results due to broadcasting. Please ensure they have the same size.\n",
      "  return F.mse_loss(input, target, reduction=self.reduction)\n"
     ]
    },
    {
     "name": "stdout",
     "output_type": "stream",
     "text": [
      "Epoch [1/100], Loss: 0.0032\n",
      "Epoch [2/100], Loss: 0.0030\n",
      "Epoch [3/100], Loss: 0.0030\n",
      "Epoch [4/100], Loss: 0.0030\n",
      "Epoch [5/100], Loss: 0.0030\n",
      "Epoch [6/100], Loss: 0.0030\n",
      "Epoch [7/100], Loss: 0.0030\n",
      "Epoch [8/100], Loss: 0.0030\n",
      "Epoch [9/100], Loss: 0.0030\n",
      "Epoch [10/100], Loss: 0.0030\n",
      "Epoch [11/100], Loss: 0.0030\n",
      "Epoch [12/100], Loss: 0.0030\n",
      "Epoch [13/100], Loss: 0.0030\n"
     ]
    }
   ],
   "source": [
    "import torch\n",
    "import torch.nn as nn\n",
    "import torch.optim as optim\n",
    "\n",
    "# Define your model\n",
    "model = ResNetSmall()\n",
    "\n",
    "# Set the device\n",
    "device = torch.device(\"cuda\" if torch.cuda.is_available() else \"cpu\")\n",
    "model.to(device)\n",
    "\n",
    "# Define the loss function and optimizer\n",
    "criterion = nn.MSELoss()\n",
    "optimizer = optim.Adam(model.parameters(), lr=0.001)\n",
    "\n",
    "# Set the number of epochs\n",
    "num_epochs = 100\n",
    "\n",
    "trainloader = torch.utils.data.DataLoader(dataset=TrainingDataset(X, y), batch_size=64, shuffle=True)\n",
    "\n",
    "# Training loop\n",
    "for epoch in range(num_epochs):\n",
    "    running_loss = 0.0\n",
    "    for inputs, labels in trainloader:\n",
    "        inputs = inputs.to(device)\n",
    "        labels = labels.to(device)\n",
    "\n",
    "        # Forward pass\n",
    "        outputs = model(inputs)\n",
    "        loss = criterion(outputs, labels)\n",
    "\n",
    "        # Backward and optimize\n",
    "        optimizer.zero_grad()\n",
    "        loss.backward()\n",
    "        optimizer.step()\n",
    "\n",
    "        running_loss += loss.item()\n",
    "        #print(f\"Batch Loss: {loss.item()}\")\n",
    "\n",
    "    epoch_loss = running_loss / len(trainloader)\n",
    "    print(f\"Epoch [{epoch+1}/{num_epochs}], Loss: {epoch_loss:.4f}\")"
   ]
  },
  {
   "cell_type": "code",
   "execution_count": null,
   "metadata": {},
   "outputs": [],
   "source": []
  },
  {
   "cell_type": "code",
   "execution_count": 274,
   "metadata": {},
   "outputs": [],
   "source": [
    "from scipy.stats import spearmanr\n",
    "\n",
    "def spearman_corr(x, y):\n",
    "    x_indices = list(range(len(x)))\n",
    "    y_indices = list(range(len(y)))\n",
    "\n",
    "    x, x_indices = map(list, zip(*sorted(zip(x, x_indices))))\n",
    "    y, y_indices = map(list, zip(*sorted(zip(y, y_indices))))\n",
    "\n",
    "    correlation, _ = spearmanr(x_indices, y_indices)\n",
    "    \n",
    "    return correlation"
   ]
  },
  {
   "cell_type": "code",
   "execution_count": null,
   "metadata": {},
   "outputs": [],
   "source": []
  }
 ],
 "metadata": {
  "kernelspec": {
   "display_name": "Python 3",
   "language": "python",
   "name": "python3"
  },
  "language_info": {
   "codemirror_mode": {
    "name": "ipython",
    "version": 3
   },
   "file_extension": ".py",
   "mimetype": "text/x-python",
   "name": "python",
   "nbconvert_exporter": "python",
   "pygments_lexer": "ipython3",
   "version": "3.8.5"
  }
 },
 "nbformat": 4,
 "nbformat_minor": 4
}
